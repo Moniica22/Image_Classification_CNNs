{
 "cells": [
  {
   "cell_type": "code",
   "execution_count": 7,
   "id": "cde74800-b529-4a77-a12f-342ff2ab2608",
   "metadata": {},
   "outputs": [],
   "source": [
    "import numpy as np\n",
    "import matplotlib.pyplot as plt \n",
    "import seaborn as sns\n",
    "\n",
    "from tensorflow.keras.datasets import cifar10"
   ]
  },
  {
   "cell_type": "markdown",
   "id": "27d5f842-24f3-4243-b519-58302f0ef3a0",
   "metadata": {},
   "source": [
    "### 1. Load and explore the dataset"
   ]
  },
  {
   "cell_type": "code",
   "execution_count": 9,
   "id": "94f1e244-40f9-4c92-8d85-60d40eed6b12",
   "metadata": {},
   "outputs": [],
   "source": [
    "# Load CIFAR-10 dataset\n",
    "(x_train, y_train), (x_test, y_test) = cifar10.load_data()"
   ]
  },
  {
   "cell_type": "code",
   "execution_count": 10,
   "id": "a24c81c4-d1fe-4791-af03-c73c4ff66d0b",
   "metadata": {},
   "outputs": [
    {
     "name": "stdout",
     "output_type": "stream",
     "text": [
      "(50000, 32, 32, 3) (50000, 1)\n",
      "(10000, 32, 32, 3) (10000, 1)\n"
     ]
    }
   ],
   "source": [
    "# Dataset shapes\n",
    "print(x_train.shape, y_train.shape)\n",
    "print(x_test.shape, y_test.shape)"
   ]
  },
  {
   "cell_type": "markdown",
   "id": "fd3c00f1-7f04-4ea1-af75-a3134dbaf7d5",
   "metadata": {},
   "source": [
    "The CIFAR-10 dataset contains 50,000 training images and 10,000 test images. \n",
    "\n",
    "Each image is 32x32 pixels with 3 color channels (RGB)."
   ]
  },
  {
   "cell_type": "code",
   "execution_count": 12,
   "id": "be51d2dd-a3f8-467e-88bc-b9488e30f0d1",
   "metadata": {},
   "outputs": [
    {
     "name": "stdout",
     "output_type": "stream",
     "text": [
      "[[[207 209 224]\n",
      "  [209 211 231]\n",
      "  [197 209 230]\n",
      "  ...\n",
      "  [204 211 238]\n",
      "  [198 208 230]\n",
      "  [190 200 223]]\n",
      "\n",
      " [[190 202 225]\n",
      "  [189 206 232]\n",
      "  [180 205 233]\n",
      "  ...\n",
      "  [199 212 237]\n",
      "  [195 209 235]\n",
      "  [182 203 234]]\n",
      "\n",
      " [[180 200 227]\n",
      "  [176 204 233]\n",
      "  [174 208 239]\n",
      "  ...\n",
      "  [210 219 235]\n",
      "  [218 226 244]\n",
      "  [197 214 240]]\n",
      "\n",
      " ...\n",
      "\n",
      " [[133 117 121]\n",
      "  [134 118 121]\n",
      "  [123 108 111]\n",
      "  ...\n",
      "  [139 123 139]\n",
      "  [144 136 161]\n",
      "  [148 145 178]]\n",
      "\n",
      " [[ 74  60  66]\n",
      "  [ 65  52  55]\n",
      "  [ 71  58  60]\n",
      "  ...\n",
      "  [149 138 160]\n",
      "  [146 144 170]\n",
      "  [148 151 180]]\n",
      "\n",
      " [[ 62  49  56]\n",
      "  [ 43  31  34]\n",
      "  [ 34  22  22]\n",
      "  ...\n",
      "  [148 140 163]\n",
      "  [146 147 172]\n",
      "  [142 148 175]]]\n"
     ]
    }
   ],
   "source": [
    "i = np.random.randint(len(x_train)) # Display a random training image as an array\n",
    "image = x_train[i]\n",
    "\n",
    "print(imagen)"
   ]
  },
  {
   "cell_type": "markdown",
   "id": "bc96c86e-d878-4fd2-86f8-096907ba3507",
   "metadata": {},
  },
  {
   "cell_type": "code",
   "execution_count": 14,
   "id": "92af1580-9ade-4352-a3fe-6da53891d905",
   "metadata": {},
   "outputs": [
    {
     "name": "stdout",
     "output_type": "stream",
     "text": [
      "32\n"
     ]
    }
   ],
   "source": [
    "print(len(image))"
   ]
  },
  {
   "cell_type": "markdown",
   "id": "a0430fe1-58f7-4cdc-bd51-7ff47efd1223",
   "metadata": {},
  },
  {
   "cell_type": "code",
   "execution_count": 16,
   "id": "c09aea32-cf7e-4bd9-80b3-c6aa6c1c0561",
   "metadata": {},
   "outputs": [
    {
     "name": "stdout",
     "output_type": "stream",
     "text": [
      "[[[0.81176471 0.81960784 0.87843137]\n",
      "  [0.81960784 0.82745098 0.90588235]\n",
      "  [0.77254902 0.81960784 0.90196078]\n",
      "  ...\n",
      "  [0.8        0.82745098 0.93333333]\n",
      "  [0.77647059 0.81568627 0.90196078]\n",
      "  [0.74509804 0.78431373 0.8745098 ]]\n",
      "\n",
      " [[0.74509804 0.79215686 0.88235294]\n",
      "  [0.74117647 0.80784314 0.90980392]\n",
      "  [0.70588235 0.80392157 0.91372549]\n",
      "  ...\n",
      "  [0.78039216 0.83137255 0.92941176]\n",
      "  [0.76470588 0.81960784 0.92156863]\n",
      "  [0.71372549 0.79607843 0.91764706]]\n",
      "\n",
      " [[0.70588235 0.78431373 0.89019608]\n",
      "  [0.69019608 0.8        0.91372549]\n",
      "  [0.68235294 0.81568627 0.9372549 ]\n",
      "  ...\n",
      "  [0.82352941 0.85882353 0.92156863]\n",
      "  [0.85490196 0.88627451 0.95686275]\n",
      "  [0.77254902 0.83921569 0.94117647]]\n",
      "\n",
      " ...\n",
      "\n",
      " [[0.52156863 0.45882353 0.4745098 ]\n",
      "  [0.5254902  0.4627451  0.4745098 ]\n",
      "  [0.48235294 0.42352941 0.43529412]\n",
      "  ...\n",
      "  [0.54509804 0.48235294 0.54509804]\n",
      "  [0.56470588 0.53333333 0.63137255]\n",
      "  [0.58039216 0.56862745 0.69803922]]\n",
      "\n",
      " [[0.29019608 0.23529412 0.25882353]\n",
      "  [0.25490196 0.20392157 0.21568627]\n",
      "  [0.27843137 0.22745098 0.23529412]\n",
      "  ...\n",
      "  [0.58431373 0.54117647 0.62745098]\n",
      "  [0.57254902 0.56470588 0.66666667]\n",
      "  [0.58039216 0.59215686 0.70588235]]\n",
      "\n",
      " [[0.24313725 0.19215686 0.21960784]\n",
      "  [0.16862745 0.12156863 0.13333333]\n",
      "  [0.13333333 0.08627451 0.08627451]\n",
      "  ...\n",
      "  [0.58039216 0.54901961 0.63921569]\n",
      "  [0.57254902 0.57647059 0.6745098 ]\n",
      "  [0.55686275 0.58039216 0.68627451]]]\n"
     ]
    }
   ],
   "source": [
    "normalize_image = image/255.0\n",
    "print(normalize_image)"
   ]
  },
  {
   "cell_type": "markdown",
   "id": "a612c680-1e1f-4f3d-a190-922385723023",
   "metadata": {},
   "source": [
    "If we want to see the dataset's classes, we can find this information in the documentation on the official CIFAR-10 dataset website. There, we see that it has these 10 categories:"
   ]
  },
  {
   "cell_type": "code",
   "execution_count": 18,
   "id": "3f8373fa-7629-4d30-a3c3-aa3ffeb40905",
   "metadata": {},
   "outputs": [],
   "source": [
    "categories = ['airplane', 'car', 'bird', 'cat', 'deer', 'dog', 'frog', 'horse', 'boat', 'truck']"
   ]
  },
  {
   "cell_type": "markdown",
   "id": "6578cb55-73d6-4ab5-8ff5-44457d72ab9c",
   "metadata": {},
   "source": [
    "and to see the tag for a specific image:"
   ]
  },
  {
   "cell_type": "code",
   "execution_count": 20,
   "id": "ac023560-26af-4825-a811-138f64412c37",
   "metadata": {},
   "outputs": [
    {
     "name": "stdout",
     "output_type": "stream",
     "text": [
      "Category index: 8\n",
      "Image category: boat\n"
     ]
    }
   ],
   "source": [
    "print(f\"Category index: {y_train[i][0]}\")\n",
    "print(f\"Image category: {categories[y_train[i][0]]}\")"
   ]
  },
  {
   "cell_type": "markdown",
   "id": "38e4021a-c41e-41b6-b198-6e5fd7e30fbf",
   "metadata": {},
   "source": [
    "### 2. View some images"
   ]
  },
  {
   "cell_type": "code",
   "execution_count": 22,
   "id": "de12deed-243b-46e6-898b-6fb6e5d0baa8",
   "metadata": {},
   "outputs": [
    {
     "data": {
      "image/png": "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",
      "text/plain": [
       "<Figure size 600x600 with 9 Axes>"
      ]
     },
     "metadata": {},
     "output_type": "display_data"
    }
   ],
   "source": [
    "fig, axes = plt.subplots(3, 3, figsize=(6, 6))\n",
    "for i, ax in enumerate(axes.flat):\n",
    "    ax.imshow(x_train[i])  # Mostrar la imagen\n",
    "    ax.set_title(categories[y_train[i][0]])\n",
    "    ax.axis(\"off\") # Quitar los ejes\n",
    "plt.show()"
   ]
  },
  {
   "cell_type": "markdown",
   "id": "fbc2941f-96d3-4a66-bebb-a3f1349ed138",
   "metadata": {},
   "source": [
    "Let's see how many images there are of each class:"
   ]
  },
  {
   "cell_type": "code",
   "execution_count": 24,
   "id": "aa4d6187-ce9a-4583-8918-a050f328f06b",
   "metadata": {},
   "outputs": [
    {
     "data": {
      "image/png": "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",
      "text/plain": [
       "<Figure size 640x480 with 1 Axes>"
      ]
     },
     "metadata": {},
     "output_type": "display_data"
    }
   ],
   "source": [
    "sns.histplot(y_train.flatten(), bins = 10, kde = False)\n",
    "plt.xticks(range(10), categories, rotation = 45)\n",
    "plt.xlabel('Categories')\n",
    "plt.ylabel('Number of images')\n",
    "plt.title('Distribution of categories in CIFAR-10')\n",
    "plt.show()"
   ]
  },
  {
   "cell_type": "markdown",
   "id": "8d643b7e-2765-4b20-b55e-3e45b85f5997",
   "metadata": {},
   "source": [
    "Since CIFAR-10 has a **balanced distribution**, each class has 5,000 images."
   ]
  },
  {
   "cell_type": "markdown",
   "id": "6e177410-de33-4b58-9b70-5f3cf4ec710c",
   "metadata": {},
   "source": [
    "To view an image from a specific category:"
   ]
  },
  {
   "cell_type": "code",
   "execution_count": 27,
   "id": "cf98e01a-fcf8-4700-af23-e5f667b5869c",
   "metadata": {},
   "outputs": [
    {
     "data": {
      "image/png": "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",
      "text/plain": [
       "<Figure size 640x480 with 1 Axes>"
      ]
     },
     "metadata": {},
     "output_type": "display_data"
    }
   ],
   "source": [
    "category_obj = 5\n",
    "ind = np.where(y_train.flatten()==categoria_obj)[0]\n",
    "\n",
    "plt.imshow(x_train[ind[0]])\n",
    "plt.title(categories[category_obj])\n",
    "plt.axis(\"off\")\n",
    "plt.show()"
   ]
  },
  {
   "cell_type": "markdown",
   "id": "1e1785ce-a61d-4b8f-893f-d7d4b354efa6",
   "metadata": {},
   "source": [
    "### 3. Normalize the data"
   ]
  },
  {
   "cell_type": "markdown",
   "id": "33b283da-3719-449c-b733-c79a47a4b5c0",
   "metadata": {},
   "source": [
    "Images have values ​​between 0 and 255. To help the neural network learn better, we normalize the values ​​between 0 and 1."
   ]
  },
  {
   "cell_type": "code",
   "execution_count": 30,
   "id": "a9965eef-b7bd-4ad8-80d8-3e97a298eb13",
   "metadata": {},
   "outputs": [],
   "source": [
    "x_train = x_train/255.0\n",
    "x_test = x_test/255.0"
   ]
  },
  {
   "cell_type": "markdown",
   "id": "eb287fa6-b1eb-4fcc-8ce0-45af1d7022d9",
   "metadata": {},
   "source": [
    "### 4. Build the CNN Neural Network"
   ]
  },
  {
   "cell_type": "markdown",
   "id": "e38ec329-13fd-4f49-9d57-4e0ea9436d5d",
   "metadata": {},
   "source": [
    "- layers: Contains the different layers that can be used in a neural network.\n",
    "- models: Used to build the model structure."
   ]
  },
  {
   "cell_type": "markdown",
   "id": "a8789221-d297-4998-bcca-23b7d9f0d7b3",
   "metadata": {},
   "source": [
    "- **First Layer** Conv2D\n",
    "  - Applies 32 3x3 filters to the input image.\n",
    "  - Uses ReLU (activation='relu') to introduce nonlinearity and improve learning.\n",
    "  - The input image has size (32, 32, 3) (RGB with 3 channels).\n",
    "- MaxPooling2D\n",
    "  - Reduces the image dimension ((2,2)).\n",
    "  - If the image was (32,32), it is now (15,15).\n",
    "- **Second Layer** Conv2D\n",
    "  - Now uses 64 filters instead of 32, detecting more complex patterns.\n",
    "- Second MaxPooling2D\n",
    "  - Further reduces the image dimension.\n",
    "- **Third Layer** Conv2D\n",
    "  - Uses 63 filters instead of 64 (small mistake, should be 64 for consistency).\n",
    "- Flatten\n",
    "  - Converts the image to a vector so it can be passed to a traditional neural network.\n",
    "- Dense Layer (Dense 64)\n",
    "  - Connects all neurons to process the data.\n",
    "- Output Layer (Dense 10)\n",
    "  - Has 10 neurons because there are 10 classes in CIFAR-10.\n",
    "  - ❌ Error: The final activation should be softmax, not relu. Softmax converts the output into probabilities for each class."
   ]
  },
  {
   "cell_type": "code",
   "execution_count": 43,
   "id": "1e5b3271-c9be-4917-9521-201a361ab75a",
   "metadata": {},
   "outputs": [
    {
     "data": {
      "text/html": [
       "<pre style=\"white-space:pre;overflow-x:auto;line-height:normal;font-family:Menlo,'DejaVu Sans Mono',consolas,'Courier New',monospace\"><span style=\"font-weight: bold\">Model: \"sequential_2\"</span>\n",
       "</pre>\n"
      ],
      "text/plain": [
       "\u001b[1mModel: \"sequential_2\"\u001b[0m\n"
      ]
     },
     "metadata": {},
     "output_type": "display_data"
    },
    {
     "data": {
      "text/html": [
       "<pre style=\"white-space:pre;overflow-x:auto;line-height:normal;font-family:Menlo,'DejaVu Sans Mono',consolas,'Courier New',monospace\">┏━━━━━━━━━━━━━━━━━━━━━━━━━━━━━━━━━┳━━━━━━━━━━━━━━━━━━━━━━━━┳━━━━━━━━━━━━━━━┓\n",
       "┃<span style=\"font-weight: bold\"> Layer (type)                    </span>┃<span style=\"font-weight: bold\"> Output Shape           </span>┃<span style=\"font-weight: bold\">       Param # </span>┃\n",
       "┡━━━━━━━━━━━━━━━━━━━━━━━━━━━━━━━━━╇━━━━━━━━━━━━━━━━━━━━━━━━╇━━━━━━━━━━━━━━━┩\n",
       "│ conv2d_12 (<span style=\"color: #0087ff; text-decoration-color: #0087ff\">Conv2D</span>)              │ (<span style=\"color: #00d7ff; text-decoration-color: #00d7ff\">None</span>, <span style=\"color: #00af00; text-decoration-color: #00af00\">30</span>, <span style=\"color: #00af00; text-decoration-color: #00af00\">30</span>, <span style=\"color: #00af00; text-decoration-color: #00af00\">32</span>)     │           <span style=\"color: #00af00; text-decoration-color: #00af00\">896</span> │\n",
       "├─────────────────────────────────┼────────────────────────┼───────────────┤\n",
       "│ max_pooling2d_8 (<span style=\"color: #0087ff; text-decoration-color: #0087ff\">MaxPooling2D</span>)  │ (<span style=\"color: #00d7ff; text-decoration-color: #00d7ff\">None</span>, <span style=\"color: #00af00; text-decoration-color: #00af00\">15</span>, <span style=\"color: #00af00; text-decoration-color: #00af00\">15</span>, <span style=\"color: #00af00; text-decoration-color: #00af00\">32</span>)     │             <span style=\"color: #00af00; text-decoration-color: #00af00\">0</span> │\n",
       "├─────────────────────────────────┼────────────────────────┼───────────────┤\n",
       "│ conv2d_13 (<span style=\"color: #0087ff; text-decoration-color: #0087ff\">Conv2D</span>)              │ (<span style=\"color: #00d7ff; text-decoration-color: #00d7ff\">None</span>, <span style=\"color: #00af00; text-decoration-color: #00af00\">13</span>, <span style=\"color: #00af00; text-decoration-color: #00af00\">13</span>, <span style=\"color: #00af00; text-decoration-color: #00af00\">64</span>)     │        <span style=\"color: #00af00; text-decoration-color: #00af00\">18,496</span> │\n",
       "├─────────────────────────────────┼────────────────────────┼───────────────┤\n",
       "│ max_pooling2d_9 (<span style=\"color: #0087ff; text-decoration-color: #0087ff\">MaxPooling2D</span>)  │ (<span style=\"color: #00d7ff; text-decoration-color: #00d7ff\">None</span>, <span style=\"color: #00af00; text-decoration-color: #00af00\">6</span>, <span style=\"color: #00af00; text-decoration-color: #00af00\">6</span>, <span style=\"color: #00af00; text-decoration-color: #00af00\">64</span>)       │             <span style=\"color: #00af00; text-decoration-color: #00af00\">0</span> │\n",
       "├─────────────────────────────────┼────────────────────────┼───────────────┤\n",
       "│ conv2d_14 (<span style=\"color: #0087ff; text-decoration-color: #0087ff\">Conv2D</span>)              │ (<span style=\"color: #00d7ff; text-decoration-color: #00d7ff\">None</span>, <span style=\"color: #00af00; text-decoration-color: #00af00\">4</span>, <span style=\"color: #00af00; text-decoration-color: #00af00\">4</span>, <span style=\"color: #00af00; text-decoration-color: #00af00\">63</span>)       │        <span style=\"color: #00af00; text-decoration-color: #00af00\">36,351</span> │\n",
       "├─────────────────────────────────┼────────────────────────┼───────────────┤\n",
       "│ flatten_2 (<span style=\"color: #0087ff; text-decoration-color: #0087ff\">Flatten</span>)             │ (<span style=\"color: #00d7ff; text-decoration-color: #00d7ff\">None</span>, <span style=\"color: #00af00; text-decoration-color: #00af00\">1008</span>)           │             <span style=\"color: #00af00; text-decoration-color: #00af00\">0</span> │\n",
       "├─────────────────────────────────┼────────────────────────┼───────────────┤\n",
       "│ dense_4 (<span style=\"color: #0087ff; text-decoration-color: #0087ff\">Dense</span>)                 │ (<span style=\"color: #00d7ff; text-decoration-color: #00d7ff\">None</span>, <span style=\"color: #00af00; text-decoration-color: #00af00\">64</span>)             │        <span style=\"color: #00af00; text-decoration-color: #00af00\">64,576</span> │\n",
       "├─────────────────────────────────┼────────────────────────┼───────────────┤\n",
       "│ dense_5 (<span style=\"color: #0087ff; text-decoration-color: #0087ff\">Dense</span>)                 │ (<span style=\"color: #00d7ff; text-decoration-color: #00d7ff\">None</span>, <span style=\"color: #00af00; text-decoration-color: #00af00\">10</span>)             │           <span style=\"color: #00af00; text-decoration-color: #00af00\">650</span> │\n",
       "└─────────────────────────────────┴────────────────────────┴───────────────┘\n",
       "</pre>\n"
      ],
      "text/plain": [
       "┏━━━━━━━━━━━━━━━━━━━━━━━━━━━━━━━━━┳━━━━━━━━━━━━━━━━━━━━━━━━┳━━━━━━━━━━━━━━━┓\n",
       "┃\u001b[1m \u001b[0m\u001b[1mLayer (type)                   \u001b[0m\u001b[1m \u001b[0m┃\u001b[1m \u001b[0m\u001b[1mOutput Shape          \u001b[0m\u001b[1m \u001b[0m┃\u001b[1m \u001b[0m\u001b[1m      Param #\u001b[0m\u001b[1m \u001b[0m┃\n",
       "┡━━━━━━━━━━━━━━━━━━━━━━━━━━━━━━━━━╇━━━━━━━━━━━━━━━━━━━━━━━━╇━━━━━━━━━━━━━━━┩\n",
       "│ conv2d_12 (\u001b[38;5;33mConv2D\u001b[0m)              │ (\u001b[38;5;45mNone\u001b[0m, \u001b[38;5;34m30\u001b[0m, \u001b[38;5;34m30\u001b[0m, \u001b[38;5;34m32\u001b[0m)     │           \u001b[38;5;34m896\u001b[0m │\n",
       "├─────────────────────────────────┼────────────────────────┼───────────────┤\n",
       "│ max_pooling2d_8 (\u001b[38;5;33mMaxPooling2D\u001b[0m)  │ (\u001b[38;5;45mNone\u001b[0m, \u001b[38;5;34m15\u001b[0m, \u001b[38;5;34m15\u001b[0m, \u001b[38;5;34m32\u001b[0m)     │             \u001b[38;5;34m0\u001b[0m │\n",
       "├─────────────────────────────────┼────────────────────────┼───────────────┤\n",
       "│ conv2d_13 (\u001b[38;5;33mConv2D\u001b[0m)              │ (\u001b[38;5;45mNone\u001b[0m, \u001b[38;5;34m13\u001b[0m, \u001b[38;5;34m13\u001b[0m, \u001b[38;5;34m64\u001b[0m)     │        \u001b[38;5;34m18,496\u001b[0m │\n",
       "├─────────────────────────────────┼────────────────────────┼───────────────┤\n",
       "│ max_pooling2d_9 (\u001b[38;5;33mMaxPooling2D\u001b[0m)  │ (\u001b[38;5;45mNone\u001b[0m, \u001b[38;5;34m6\u001b[0m, \u001b[38;5;34m6\u001b[0m, \u001b[38;5;34m64\u001b[0m)       │             \u001b[38;5;34m0\u001b[0m │\n",
       "├─────────────────────────────────┼────────────────────────┼───────────────┤\n",
       "│ conv2d_14 (\u001b[38;5;33mConv2D\u001b[0m)              │ (\u001b[38;5;45mNone\u001b[0m, \u001b[38;5;34m4\u001b[0m, \u001b[38;5;34m4\u001b[0m, \u001b[38;5;34m63\u001b[0m)       │        \u001b[38;5;34m36,351\u001b[0m │\n",
       "├─────────────────────────────────┼────────────────────────┼───────────────┤\n",
       "│ flatten_2 (\u001b[38;5;33mFlatten\u001b[0m)             │ (\u001b[38;5;45mNone\u001b[0m, \u001b[38;5;34m1008\u001b[0m)           │             \u001b[38;5;34m0\u001b[0m │\n",
       "├─────────────────────────────────┼────────────────────────┼───────────────┤\n",
       "│ dense_4 (\u001b[38;5;33mDense\u001b[0m)                 │ (\u001b[38;5;45mNone\u001b[0m, \u001b[38;5;34m64\u001b[0m)             │        \u001b[38;5;34m64,576\u001b[0m │\n",
       "├─────────────────────────────────┼────────────────────────┼───────────────┤\n",
       "│ dense_5 (\u001b[38;5;33mDense\u001b[0m)                 │ (\u001b[38;5;45mNone\u001b[0m, \u001b[38;5;34m10\u001b[0m)             │           \u001b[38;5;34m650\u001b[0m │\n",
       "└─────────────────────────────────┴────────────────────────┴───────────────┘\n"
      ]
     },
     "metadata": {},
     "output_type": "display_data"
    },
    {
     "data": {
      "text/html": [
       "<pre style=\"white-space:pre;overflow-x:auto;line-height:normal;font-family:Menlo,'DejaVu Sans Mono',consolas,'Courier New',monospace\"><span style=\"font-weight: bold\"> Total params: </span><span style=\"color: #00af00; text-decoration-color: #00af00\">120,969</span> (472.54 KB)\n",
       "</pre>\n"
      ],
      "text/plain": [
       "\u001b[1m Total params: \u001b[0m\u001b[38;5;34m120,969\u001b[0m (472.54 KB)\n"
      ]
     },
     "metadata": {},
     "output_type": "display_data"
    },
    {
     "data": {
      "text/html": [
       "<pre style=\"white-space:pre;overflow-x:auto;line-height:normal;font-family:Menlo,'DejaVu Sans Mono',consolas,'Courier New',monospace\"><span style=\"font-weight: bold\"> Trainable params: </span><span style=\"color: #00af00; text-decoration-color: #00af00\">120,969</span> (472.54 KB)\n",
       "</pre>\n"
      ],
      "text/plain": [
       "\u001b[1m Trainable params: \u001b[0m\u001b[38;5;34m120,969\u001b[0m (472.54 KB)\n"
      ]
     },
     "metadata": {},
     "output_type": "display_data"
    },
    {
     "data": {
      "text/html": [
       "<pre style=\"white-space:pre;overflow-x:auto;line-height:normal;font-family:Menlo,'DejaVu Sans Mono',consolas,'Courier New',monospace\"><span style=\"font-weight: bold\"> Non-trainable params: </span><span style=\"color: #00af00; text-decoration-color: #00af00\">0</span> (0.00 B)\n",
       "</pre>\n"
      ],
      "text/plain": [
       "\u001b[1m Non-trainable params: \u001b[0m\u001b[38;5;34m0\u001b[0m (0.00 B)\n"
      ]
     },
     "metadata": {},
     "output_type": "display_data"
    }
   ],
   "source": [
    "from tensorflow.keras import layers, models\n",
    "\n",
    "# Modelo CNN\n",
    "model = models.Sequential([\n",
    "    layers.Conv2D(32, (3,3), activation='relu', input_shape=(32,32,3)), # 1º convolutional layer\n",
    "    layers.MaxPooling2D((2,2)), # Reduces dimensions\n",
    "\n",
    "    layers.Conv2D(64, (3,3), activation = 'relu'), # 2º convolutional layer\n",
    "    layers.MaxPooling2D((2,2)),\n",
    "\n",
    "    layers.Conv2D(63, (3,3), activation = 'relu'), # 3º convolutional layer\n",
    "\n",
    "    layers.Flatten(), # Convert the image to vector for the dense layer\n",
    "    layers.Dense(64, activation = 'relu'), # Fully connected (hidden) layer\n",
    "    layers.Dense(10, activation = 'softmax') # Final output layer for 10 categories\n",
    "])\n",
    " \n",
    "# Model summary\n",
    "model.summary()"
   ]
  },
  {
   "cell_type": "markdown",
   "id": "19913977-9b79-4f6b-9232-7ec2cf07efbd",
   "metadata": {},
   "source": [
    "1. Conv2D (32 filtros, 3x3)\n",
    "- Output: (30,30,32) → The image is scaled down because 3x3 doesn't exactly fit 32x32.\n",
    "- Parameters: 896 → Calculated as ((3*3*3) + 1) * 32.\n",
    "\n",
    "2. MaxPooling2D (2x2)\n",
    "- Output: (15,15,32) → Reduces the size.\n",
    "- Parameters: 0 (earns nothing, just reduces the size).\n",
    "\n",
    "3. Conv2D (64 filtros, 3x3)\n",
    "- Output: (13,13,64) → Reduces the size a little.\n",
    "- Parameters: 18,496 → Calculated as ((3*3*32) + 1) * 64.\n",
    "\n",
    "4. MaxPooling2D (2x2)\n",
    "- Output: (6,6,64) → Reduce a la mitad.\n",
    "\n",
    "5. Conv2D (63 filtros, 3x3)\n",
    "- Output: (4,4,63) → Continues reducing the image.\n",
    "- Parameters: 36,351.\n",
    "\n",
    "6. Flatten\n",
    "- onverts the image to a 1008-valued vector.\n",
    "\n",
    "7. Dense (64)\n",
    "- Fully connected neuron with 64 neurons.\n",
    "- Parameters: 64,576.\n",
    "\n",
    "8. Dense (10)\n",
    "- Final Output, with 10 neurons (one for each class in CIFAR-10).\n",
    "- Parameters: 650.\n",
    "\n",
    "📌 Total Parameters\n",
    "- 120,969 trainable parameters → The CNN has this number of values ​​that will be adjusted during training.\n",
    "- Almost 500 KB of memory used → Quite efficient for a model of this scale."
   ]
  },
  {
   "cell_type": "markdown",
   "id": "4e07bdf4-4b8b-4e9a-b624-90f0d8ff2982",
   "metadata": {},
   "source": [
    "### 5. Compile and train the model"
   ]
  },
  {
   "cell_type": "markdown",
   "id": "1709cdcd-ffcd-4ec0-a414-a361f8e52793",
   "metadata": {},
   "source": [
    "- *adam*: Efficient optimizer\n",
    "- *sparse_categorical_crossentropy*: Loss function for classification.\n",
    "- *epochs=10*: We train for 10 iterations."
   ]
  },
  {
   "cell_type": "code",
   "execution_count": 50,
   "id": "9ab41850-5065-48ea-88e0-092bff781763",
   "metadata": {},
   "outputs": [
    {
     "name": "stdout",
     "output_type": "stream",
     "text": [
      "Epoch 1/10\n",
      "\u001b[1m1563/1563\u001b[0m \u001b[32m━━━━━━━━━━━━━━━━━━━━\u001b[0m\u001b[37m\u001b[0m \u001b[1m25s\u001b[0m 14ms/step - accuracy: 0.3522 - loss: 1.7595 - val_accuracy: 0.5363 - val_loss: 1.2904\n",
      "Epoch 2/10\n",
      "\u001b[1m1563/1563\u001b[0m \u001b[32m━━━━━━━━━━━━━━━━━━━━\u001b[0m\u001b[37m\u001b[0m \u001b[1m40s\u001b[0m 13ms/step - accuracy: 0.5754 - loss: 1.1878 - val_accuracy: 0.6267 - val_loss: 1.0512\n",
      "Epoch 3/10\n",
      "\u001b[1m1563/1563\u001b[0m \u001b[32m━━━━━━━━━━━━━━━━━━━━\u001b[0m\u001b[37m\u001b[0m \u001b[1m21s\u001b[0m 13ms/step - accuracy: 0.6415 - loss: 1.0160 - val_accuracy: 0.6514 - val_loss: 0.9885\n",
      "Epoch 4/10\n",
      "\u001b[1m1563/1563\u001b[0m \u001b[32m━━━━━━━━━━━━━━━━━━━━\u001b[0m\u001b[37m\u001b[0m \u001b[1m20s\u001b[0m 13ms/step - accuracy: 0.6764 - loss: 0.9189 - val_accuracy: 0.6696 - val_loss: 0.9456\n",
      "Epoch 5/10\n",
      "\u001b[1m1563/1563\u001b[0m \u001b[32m━━━━━━━━━━━━━━━━━━━━\u001b[0m\u001b[37m\u001b[0m \u001b[1m22s\u001b[0m 14ms/step - accuracy: 0.7016 - loss: 0.8380 - val_accuracy: 0.6864 - val_loss: 0.9011\n",
      "Epoch 6/10\n",
      "\u001b[1m1563/1563\u001b[0m \u001b[32m━━━━━━━━━━━━━━━━━━━━\u001b[0m\u001b[37m\u001b[0m \u001b[1m40s\u001b[0m 13ms/step - accuracy: 0.7245 - loss: 0.7816 - val_accuracy: 0.7062 - val_loss: 0.8633\n",
      "Epoch 7/10\n",
      "\u001b[1m1563/1563\u001b[0m \u001b[32m━━━━━━━━━━━━━━━━━━━━\u001b[0m\u001b[37m\u001b[0m \u001b[1m20s\u001b[0m 13ms/step - accuracy: 0.7449 - loss: 0.7207 - val_accuracy: 0.6986 - val_loss: 0.8763\n",
      "Epoch 8/10\n",
      "\u001b[1m1563/1563\u001b[0m \u001b[32m━━━━━━━━━━━━━━━━━━━━\u001b[0m\u001b[37m\u001b[0m \u001b[1m22s\u001b[0m 14ms/step - accuracy: 0.7607 - loss: 0.6772 - val_accuracy: 0.6993 - val_loss: 0.8886\n",
      "Epoch 9/10\n",
      "\u001b[1m1563/1563\u001b[0m \u001b[32m━━━━━━━━━━━━━━━━━━━━\u001b[0m\u001b[37m\u001b[0m \u001b[1m40s\u001b[0m 13ms/step - accuracy: 0.7756 - loss: 0.6398 - val_accuracy: 0.7122 - val_loss: 0.8582\n",
      "Epoch 10/10\n",
      "\u001b[1m1563/1563\u001b[0m \u001b[32m━━━━━━━━━━━━━━━━━━━━\u001b[0m\u001b[37m\u001b[0m \u001b[1m21s\u001b[0m 13ms/step - accuracy: 0.7859 - loss: 0.6024 - val_accuracy: 0.7137 - val_loss: 0.8662\n"
     ]
    }
   ],
   "source": [
    "# Compile the model\n",
    "model.compile(optimizer='adam',\n",
    "             loss = 'sparse_categorical_crossentropy',\n",
    "             metrics=['accuracy'])\n",
    "\n",
    "# Train the model\n",
    "history = model.fit(x_train, y_train, epochs = 10, validation_data=(x_test, y_test))"
   ]
  },
  {
   "cell_type": "markdown",
   "id": "f7b4de36-a637-4a37-a8ae-7c6043a8b4a4",
   "metadata": {},
   "source": [
    "### 6. Evaluate the model"
   ]
  },
  {
   "cell_type": "code",
   "execution_count": 53,
   "id": "50391dad-6e51-4196-ad64-dc4a00541a56",
   "metadata": {},
   "outputs": [
    {
     "name": "stdout",
     "output_type": "stream",
     "text": [
      "313/313 - 1s - 4ms/step - accuracy: 0.7137 - loss: 0.8662\n",
      "Precisión test:  0.71\n"
     ]
    }
   ],
   "source": [
    "test_loss, test_acc = model.evaluate(x_test, y_test, verbose = 2)\n",
    "print(f\"Precisión test: {test_acc: .2f}\")"
   ]
  },
  {
   "cell_type": "markdown",
   "id": "1bae20ae-0152-416d-9635-364e37945274",
   "metadata": {},
   "source": [
    "### 7. Predictions"
   ]
  },
  {
   "cell_type": "markdown",
   "id": "1b96861f-df5d-450c-88e1-a2a0143e744c",
   "metadata": {},
   "source": [
    "We test the model with new images:"
   ]
  },
  {
   "cell_type": "code",
   "execution_count": 63,
   "id": "f7d43904-834c-43b1-84f6-a06441d7faab",
   "metadata": {},
   "outputs": [
    {
     "data": {
      "image/png": "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",
      "text/plain": [
       "<Figure size 640x480 with 1 Axes>"
      ]
     },
     "metadata": {},
     "output_type": "display_data"
    },
    {
     "name": "stdout",
     "output_type": "stream",
     "text": [
      "\u001b[1m1/1\u001b[0m \u001b[32m━━━━━━━━━━━━━━━━━━━━\u001b[0m\u001b[37m\u001b[0m \u001b[1m0s\u001b[0m 29ms/step\n",
      "Predition: horse\n"
     ]
    }
   ],
   "source": [
    "# We take an image of the test set\n",
    "img = x_test[13]\n",
    "plt.imshow(img)\n",
    "plt.axis(\"off\") # Remove the axes\n",
    "plt.show()\n",
    "\n",
    "# Make predictions\n",
    "img = np.expand_dims(img, axis=0)  # Expand dimensions to match model input\n",
    "pred = model.predict(img)\n",
    "\n",
    "print(f\"Prediction: {categories[np.argmax(pred)]}\")"
   ]
  },
  {
   "cell_type": "code",
   "execution_count": null,
   "id": "01b3d93b-2e20-4a8e-b72b-f159bbefcf51",
   "metadata": {},
   "outputs": [],
   "source": []
  }
 ],
 "metadata": {
  "kernelspec": {
   "display_name": "Python 3 (ipykernel)",
   "language": "python",
   "name": "python3"
  },
  "language_info": {
   "codemirror_mode": {
    "name": "ipython",
    "version": 3
   },
   "file_extension": ".py",
   "mimetype": "text/x-python",
   "name": "python",
   "nbconvert_exporter": "python",
   "pygments_lexer": "ipython3",
   "version": "3.12.3"
  }
 },
 "nbformat": 4,
 "nbformat_minor": 5
}
